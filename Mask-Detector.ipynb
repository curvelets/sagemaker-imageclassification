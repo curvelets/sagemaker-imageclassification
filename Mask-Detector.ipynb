{
 "cells": [
  {
   "cell_type": "markdown",
   "metadata": {},
   "source": [
    "# Challenge Problem: Mask Detector"
   ]
  },
  {
   "cell_type": "markdown",
   "metadata": {},
   "source": [
    "## 0- Using Rekognition to do person detection (Editing required)"
   ]
  },
  {
   "cell_type": "code",
   "execution_count": null,
   "metadata": {},
   "outputs": [],
   "source": [
    "import boto3\n",
    "rekog_client = boto3.client('rekognition')\n",
    "\n",
    "## Try to use AWS Rekognition API to detect if a person is in the image\n",
    "## Refer to https://docs.aws.amazon.com/rekognition/latest/dg/labels-detect-labels-image.html\n",
    "## Then use Cuomtom Lables endpoint to detect if there is mask in the image \n",
    "## Combine the results of two predictions we can build auto mask detector\n",
    "\n",
    "def is_there_a_person_in_the_image(bucket,photo)\n",
    "    ## Add your code here\n",
    "    \n",
    "    return True"
   ]
  },
  {
   "cell_type": "markdown",
   "metadata": {},
   "source": [
    "## 1- Start your Rekognition model (Editing required)"
   ]
  },
  {
   "cell_type": "code",
   "execution_count": null,
   "metadata": {},
   "outputs": [],
   "source": [
    "!aws rekognition start-project-version \\\n",
    "  --project-version-arn \"arn:aws:rekognition:us-east-1:230950097573:project/ppe/version/ppe.2020-07-10T08.50.41/1594389041609\" \\\n",
    "  --min-inference-units 1 \\\n",
    "  --region us-east-1"
   ]
  },
  {
   "cell_type": "markdown",
   "metadata": {},
   "source": [
    "## 2.1 - Define object detection inference function (**NO** Editing required)"
   ]
  },
  {
   "cell_type": "code",
   "execution_count": null,
   "metadata": {
    "scrolled": true
   },
   "outputs": [],
   "source": [
    "confidence =15\n",
    "import boto3\n",
    "import io\n",
    "%matplotlib inline\n",
    "from PIL import Image, ImageDraw, ExifTags, ImageColor, ImageFont\n",
    "\n",
    "def show_custom_labels_detector(model,bucket,photo):\n",
    "     \n",
    "\n",
    "    client=boto3.client('rekognition')\n",
    "\n",
    "    # Load image from S3 bucket\n",
    "    s3_connection = boto3.resource('s3')\n",
    "\n",
    "    s3_object = s3_connection.Object(bucket,photo)\n",
    "    s3_response = s3_object.get()\n",
    "\n",
    "    stream = io.BytesIO(s3_response['Body'].read())\n",
    "    image=Image.open(stream)\n",
    "    \n",
    "    #Call DetectCustomLabels \n",
    "    response = client.detect_custom_labels(Image={'S3Object': {'Bucket': bucket, 'Name': photo}},\n",
    "        MinConfidence=1,\n",
    "        ProjectVersionArn=model)\n",
    "   \n",
    "   \n",
    "    imgWidth, imgHeight = image.size  \n",
    "    draw = ImageDraw.Draw(image)  \n",
    "    \n",
    "    print(response)\n",
    "\n",
    "    colors = ('#FF0000','#0000FF','#FF00FF','#F1C40F')\n",
    "    dict1 = {'earmuffs':0,'gloves':1,'goggle':2,'mask':3}  \n",
    "    # calculate and display bounding boxes for each detected custom label       \n",
    "    for customLabel in response['CustomLabels']:\n",
    "        if customLabel['Confidence'] >= confidence:            \n",
    "            if 'Geometry' in customLabel:\n",
    "                box = customLabel['Geometry']['BoundingBox']\n",
    "                left = imgWidth * box['Left']\n",
    "                top = imgHeight * box['Top']\n",
    "                width = imgWidth * box['Width']\n",
    "                height = imgHeight * box['Height']\n",
    "                draw.text((left + width-20,top-15), customLabel['Name'], fill= colors[dict1[customLabel['Name']]])\n",
    "                draw.text((left,top-15), str(customLabel['Confidence'])[:6], fill= colors[dict1[customLabel['Name']]],stroke_width=3)#, font='Arial.ttf') \n",
    "\n",
    "                points = (\n",
    "                    (left,top),\n",
    "                    (left + width, top),\n",
    "                    (left + width, top + height),\n",
    "                    (left , top + height),\n",
    "                    (left, top))\n",
    "                draw.line(points, fill= colors[dict1[customLabel['Name']]], width=5)\n",
    "\n",
    "    image.show()\n",
    "    display(image)\n",
    "    image = image.convert('RGB')\n",
    "    image.save('inference.jpg',optimize=True,quality=300)\n",
    "\n",
    "    return response['CustomLabels']"
   ]
  },
  {
   "cell_type": "markdown",
   "metadata": {},
   "source": [
    "## 2.2 - Define classification inference function (**NO** Editing required)"
   ]
  },
  {
   "cell_type": "code",
   "execution_count": null,
   "metadata": {},
   "outputs": [],
   "source": [
    "def show_custom_labels_classifier(model,bucket,photo):\n",
    "     \n",
    "\n",
    "    client=boto3.client('rekognition')\n",
    "\n",
    "    # Load image from S3 bucket\n",
    "    s3_connection = boto3.resource('s3')\n",
    "\n",
    "    s3_object = s3_connection.Object(bucket,photo)\n",
    "    s3_response = s3_object.get()\n",
    "\n",
    "    stream = io.BytesIO(s3_response['Body'].read())\n",
    "    image=Image.open(stream)\n",
    "    \n",
    "    #Call DetectCustomLabels \n",
    "    response = client.detect_custom_labels(Image={'S3Object': {'Bucket': bucket, 'Name': photo}},\n",
    "        MinConfidence=1,\n",
    "        ProjectVersionArn=model)\n",
    "   \n",
    "   \n",
    "    imgWidth, imgHeight = image.size  \n",
    "    draw = ImageDraw.Draw(image)  \n",
    "    \n",
    "    #print(response)\n",
    "\n",
    "    colors = ('#FF0000','#0000FF','#FF00FF','#F1C40F')\n",
    "    label = response['CustomLabels'][0]\n",
    "    \n",
    "    draw.text((20,15), label['Name']+' '+str(label['Confidence'])[:5], fill= '#FF0000')\n",
    "    \n",
    "    image.show()\n",
    "    display(image)\n",
    "    image = image.convert('RGB')\n",
    "    image.save('inference.jpg',optimize=True,quality=300)\n",
    "\n",
    "    return response['CustomLabels']"
   ]
  },
  {
   "cell_type": "markdown",
   "metadata": {},
   "source": [
    "## 3.1 - Object Detect Tools (Editing required)"
   ]
  },
  {
   "cell_type": "code",
   "execution_count": null,
   "metadata": {},
   "outputs": [],
   "source": [
    "bucket=\"custom-labels-console-us-east-1-2bee2f52c5\"\n",
    "model= \"arn:aws:rekognition:us-east-1:230950097573:project/mask-challenge/version/mask-challenge.2020-07-20T15.02.28/1595275348912\"\n",
    "photo = 'mask_images/Valid/1.jpg'\n",
    "\n",
    "# Example:\n",
    "\n",
    "# bucket = 'bucket-name'\n",
    "# model = \"arn:aws:rekognition:us-east-1:745137163025:project/cop/version/cop.2020-01-31T12.17.29/1580494650055\"\n",
    "# photo = 'pictures/4.png'\n",
    "\n",
    "labels = show_custom_labels_detector(model,bucket,photo)"
   ]
  },
  {
   "cell_type": "markdown",
   "metadata": {},
   "source": [
    "## 3.2 - Classification Tools (Editing required)"
   ]
  },
  {
   "cell_type": "code",
   "execution_count": null,
   "metadata": {},
   "outputs": [],
   "source": [
    "bucket=\"custom-labels-console-us-east-1-2bee2f52c5\"\n",
    "model= \"arn:aws:rekognition:us-east-1:230950097573:project/mask-challenge/version/mask-challenge.2020-07-20T11.57.25/1595264245587\"\n",
    "photo = 'mask_images/Valid/mask-on-2/1.jpg'\n",
    "photo = 'mask_images/Valid/1.jpg'\n",
    "\n",
    "# Example:\n",
    "\n",
    "# bucket = 'bucket-name'\n",
    "# model = \"arn:aws:rekognition:us-east-1:745137163025:project/cop/version/cop.2020-01-31T12.17.29/1580494650055\"\n",
    "# photo = 'pictures/4.png'\n",
    "\n",
    "labels = show_custom_labels_classifier(model,bucket,photo)\n",
    "print('Mask status=',labels[0]['Name'],' Confidence=',str(labels[0]['Confidence'])[:5],\"%\")"
   ]
  },
  {
   "cell_type": "markdown",
   "metadata": {},
   "source": [
    "## 4.- Combine the results of two predictors and give final prediction results (Editing required)"
   ]
  },
  {
   "cell_type": "code",
   "execution_count": null,
   "metadata": {},
   "outputs": [],
   "source": [
    "bucket=\"custom-labels-console-us-east-1-2bee2f52c5\"\n",
    "model= \"arn:aws:rekognition:us-east-1:230950097573:project/mask-challenge/version/mask-challenge.2020-07-20T11.57.25/1595264245587\"\n",
    "photo_prefix = 'mask_images/Valid/'\n",
    "\n",
    "## Define the logic of combine prediction results from person detector and mask detector\n",
    "def combine_results(result_person, result_mask)\n",
    "    ## Add your code here\n",
    "    return True\n",
    "\n",
    "for i in range(10):\n",
    "    photo = photo_prefix + str(i) +'.jpg'\n",
    "    ## Add your code here\n",
    "    result_person = is_there_a_person_in_the_image(bucket,photo)\n",
    "    result_mask = show_custom_labels_xxx(model,bucket,photo)\n",
    "    final_result = combine_result(result_person, result_mask)\n",
    "    print(\"Detection result for image {} is {}\".format(i,final_result))"
   ]
  },
  {
   "cell_type": "markdown",
   "metadata": {},
   "source": [
    "## 5- Stop your Rekognition model."
   ]
  },
  {
   "cell_type": "code",
   "execution_count": null,
   "metadata": {},
   "outputs": [],
   "source": [
    "# After pasting remove the following line: --min-inference-units 1 \\\n",
    "\n",
    "!aws rekognition stop-project-version \\\n",
    "  --project-version-arn \"arn:aws:rekognition:us-east-1:230950097573:project/project2/version/project2.2020-07-20T12.19.03/1595240343949\" \\\n",
    "  --region us-east-1"
   ]
  }
 ],
 "metadata": {
  "kernelspec": {
   "display_name": "conda_python3",
   "language": "python",
   "name": "conda_python3"
  },
  "language_info": {
   "codemirror_mode": {
    "name": "ipython",
    "version": 3
   },
   "file_extension": ".py",
   "mimetype": "text/x-python",
   "name": "python",
   "nbconvert_exporter": "python",
   "pygments_lexer": "ipython3",
   "version": "3.6.10"
  }
 },
 "nbformat": 4,
 "nbformat_minor": 4
}
