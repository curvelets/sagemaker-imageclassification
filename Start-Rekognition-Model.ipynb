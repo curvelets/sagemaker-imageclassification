{
 "cells": [
  {
   "cell_type": "markdown",
   "metadata": {},
   "source": [
    "# Start and Test Rekognition Model"
   ]
  },
  {
   "cell_type": "markdown",
   "metadata": {},
   "source": [
    "## 1- Start your Rekognition model (Editing required)"
   ]
  },
  {
   "cell_type": "code",
   "execution_count": null,
   "metadata": {},
   "outputs": [],
   "source": [
    "!aws rekognition start-project-version \\\n",
    "  --project-version-arn \"arn:aws:rekognition:us-east-1:230950097573:project/ppe/version/ppe.2020-07-10T08.50.41/1594389041609\" \\\n",
    "  --min-inference-units 1 \\\n",
    "  --region us-east-1"
   ]
  },
  {
   "cell_type": "markdown",
   "metadata": {},
   "source": [
    "## 2- Define inference function (No editing required)"
   ]
  },
  {
   "cell_type": "code",
   "execution_count": null,
   "metadata": {
    "scrolled": true
   },
   "outputs": [],
   "source": [
    "confidence =60\n",
    "import boto3\n",
    "import io\n",
    "%matplotlib inline\n",
    "from PIL import Image, ImageDraw, ExifTags, ImageColor, ImageFont\n",
    "\n",
    "def show_custom_labels(model,bucket,photo):\n",
    "     \n",
    "\n",
    "    client=boto3.client('rekognition')\n",
    "\n",
    "    # Load image from S3 bucket\n",
    "    s3_connection = boto3.resource('s3')\n",
    "\n",
    "    s3_object = s3_connection.Object(bucket,photo)\n",
    "    s3_response = s3_object.get()\n",
    "\n",
    "    stream = io.BytesIO(s3_response['Body'].read())\n",
    "    image=Image.open(stream)\n",
    "    \n",
    "    #Call DetectCustomLabels \n",
    "    response = client.detect_custom_labels(Image={'S3Object': {'Bucket': bucket, 'Name': photo}},\n",
    "        MinConfidence=1,\n",
    "        ProjectVersionArn=model)\n",
    "   \n",
    "   \n",
    "    imgWidth, imgHeight = image.size  \n",
    "    draw = ImageDraw.Draw(image)  \n",
    "\n",
    "    colors = ('#FF0000','#0000FF','#FF00FF','#F1C40F')\n",
    "    dict1 = {'earmuffs':0,'gloves':1,'goggle':2,'mask':3}  \n",
    "    # calculate and display bounding boxes for each detected custom label       \n",
    "    for customLabel in response['CustomLabels']:\n",
    "        if customLabel['Confidence'] >= confidence:            \n",
    "            if 'Geometry' in customLabel:\n",
    "                box = customLabel['Geometry']['BoundingBox']\n",
    "                left = imgWidth * box['Left']\n",
    "                top = imgHeight * box['Top']\n",
    "                width = imgWidth * box['Width']\n",
    "                height = imgHeight * box['Height']\n",
    "                draw.text((left + width-20,top-15), customLabel['Name'], fill= colors[dict1[customLabel['Name']]])\n",
    "                draw.text((left,top-15), str(customLabel['Confidence'])[:6], fill= colors[dict1[customLabel['Name']]])#, font='Arial.ttf') \n",
    "\n",
    "                points = (\n",
    "                    (left,top),\n",
    "                    (left + width, top),\n",
    "                    (left + width, top + height),\n",
    "                    (left , top + height),\n",
    "                    (left, top))\n",
    "                draw.line(points, fill= colors[dict1[customLabel['Name']]], width=5)\n",
    "\n",
    "    image.show()\n",
    "    display(image)\n",
    "    image = image.convert('RGB')\n",
    "    image.save('inference.jpg',optimize=True,quality=300)\n",
    "\n",
    "    return len(response['CustomLabels'])"
   ]
  },
  {
   "cell_type": "markdown",
   "metadata": {},
   "source": [
    "## 3- Detect Tools (Editing required)"
   ]
  },
  {
   "cell_type": "code",
   "execution_count": null,
   "metadata": {},
   "outputs": [],
   "source": [
    "bucket=\"edo-buildout-images\"\n",
    "model= \"arn:aws:rekognition:us-east-1:230950097573:project/ppe/version/ppe.2020-07-10T08.50.41/1594389041609\"\n",
    "photo = 'train1.png'\n",
    "\n",
    "\n",
    "# Example:\n",
    "\n",
    "# bucket = 'bucket-name'\n",
    "# model = \"arn:aws:rekognition:us-east-1:745137163025:project/cop/version/cop.2020-01-31T12.17.29/1580494650055\"\n",
    "# photo = 'pictures/4.png'\n",
    "label_count=show_custom_labels(model,bucket,photo)"
   ]
  },
  {
   "cell_type": "markdown",
   "metadata": {},
   "source": [
    "## 4- Stop your Rekognition model (Editing required)."
   ]
  },
  {
   "cell_type": "code",
   "execution_count": null,
   "metadata": {},
   "outputs": [],
   "source": [
    "!aws rekognition stop-project-version \\\n",
    "  --project-version-arn \"arn:aws:rekognition:us-east-1:230950097573:project/project2/version/project2.2020-07-20T12.19.03/1595240343949\" \\\n",
    "  --region us-east-1"
   ]
  },
  {
   "cell_type": "code",
   "execution_count": null,
   "metadata": {},
   "outputs": [],
   "source": []
  }
 ],
 "metadata": {
  "kernelspec": {
   "display_name": "conda_python3",
   "language": "python",
   "name": "conda_python3"
  },
  "language_info": {
   "codemirror_mode": {
    "name": "ipython",
    "version": 3
   },
   "file_extension": ".py",
   "mimetype": "text/x-python",
   "name": "python",
   "nbconvert_exporter": "python",
   "pygments_lexer": "ipython3",
   "version": "3.6.10"
  }
 },
 "nbformat": 4,
 "nbformat_minor": 4
}
