{
 "cells": [
  {
   "cell_type": "markdown",
   "metadata": {},
   "source": [
    "# Start and Test Rekognition Model"
   ]
  },
  {
   "cell_type": "markdown",
   "metadata": {},
   "source": [
    "## Upgrade awscli and boto3 librariies"
   ]
  },
  {
   "cell_type": "code",
   "execution_count": null,
   "metadata": {},
   "outputs": [],
   "source": [
    "!pip3 install boto3 --upgrade --user"
   ]
  },
  {
   "cell_type": "code",
   "execution_count": null,
   "metadata": {},
   "outputs": [],
   "source": [
    "!pip3 install awscli --upgrade --user"
   ]
  },
  {
   "cell_type": "markdown",
   "metadata": {},
   "source": [
    "## 1- Start your Rekognition model (Editing required)"
   ]
  },
  {
   "cell_type": "code",
   "execution_count": null,
   "metadata": {},
   "outputs": [],
   "source": [
    "!aws rekognition start-project-version \\\n",
    "  --project-version-arn \"arn:aws:rekognition:us-east-1:745137163025:project/dec-20/version/dec-20.2019-12-20T09.52.19/1576857139822\" \\\n",
    "  --min-inference-units 1 \\\n",
    "  --endpoint-url https://rekognition.us-east-1.amazonaws.com \\\n",
    "  --region us-east-1"
   ]
  },
  {
   "cell_type": "markdown",
   "metadata": {},
   "source": [
    "## 2- Define inference function (No editing required)"
   ]
  },
  {
   "cell_type": "code",
   "execution_count": null,
   "metadata": {
    "scrolled": true
   },
   "outputs": [],
   "source": [
    "confidence =98\n",
    "\n",
    "import boto3\n",
    "import io\n",
    "%matplotlib inline\n",
    "from PIL import Image, ImageDraw, ExifTags, ImageColor, ImageFont\n",
    "\n",
    "def show_custom_labels(model,bucket,photo):\n",
    "     \n",
    "\n",
    "    client=boto3.client('rekognition')\n",
    "\n",
    "    # Load image from S3 bucket\n",
    "    s3_connection = boto3.resource('s3')\n",
    "\n",
    "    s3_object = s3_connection.Object(bucket,photo)\n",
    "    s3_response = s3_object.get()\n",
    "\n",
    "    stream = io.BytesIO(s3_response['Body'].read())\n",
    "    image=Image.open(stream)\n",
    "    \n",
    "    #Call DetectCustomLabels \n",
    "    response = client.detect_custom_labels(Image={'S3Object': {'Bucket': bucket, 'Name': photo}},\n",
    "        MinConfidence=1,\n",
    "        ProjectVersionArn=model)\n",
    "   \n",
    "   \n",
    "    imgWidth, imgHeight = image.size  \n",
    "    draw = ImageDraw.Draw(image)  \n",
    "\n",
    "    colors = ('#FF0000','#0000FF','#FF00FF')\n",
    "    dict1 = {'ava':0,'azt':1,'eli':2}\n",
    "    # calculate and display bounding boxes for each detected custom label       \n",
    "    for customLabel in response['CustomLabels']:\n",
    "        if customLabel['Confidence'] >= confidence:\n",
    "            if 'Geometry' in customLabel:\n",
    "                box = customLabel['Geometry']['BoundingBox']\n",
    "                left = imgWidth * box['Left']\n",
    "                top = imgHeight * box['Top']\n",
    "                width = imgWidth * box['Width']\n",
    "                height = imgHeight * box['Height']\n",
    "                draw.text((left + width-20,top-15), customLabel['Name'], fill= colors[dict1[customLabel['Name']]])\n",
    "                draw.text((left,top-15), str(customLabel['Confidence'])[:6], fill= colors[dict1[customLabel['Name']]])#, font='Arial.ttf') \n",
    "\n",
    "\n",
    "\n",
    "                points = (\n",
    "                    (left,top),\n",
    "                    (left + width, top),\n",
    "                    (left + width, top + height),\n",
    "                    (left , top + height),\n",
    "                    (left, top))\n",
    "                draw.line(points, fill= colors[dict1[customLabel['Name']]], width=5)\n",
    "\n",
    "\n",
    "    image.show()\n",
    "    display(image)\n",
    "    image = image.convert('RGB')\n",
    "    image.save('inference.jpg',optimize=True,quality=300)\n",
    "\n",
    "    return len(response['CustomLabels'])"
   ]
  },
  {
   "cell_type": "markdown",
   "metadata": {},
   "source": [
    "## 3- Detect medicines (Editing required)"
   ]
  },
  {
   "cell_type": "code",
   "execution_count": null,
   "metadata": {},
   "outputs": [],
   "source": [
    "bucket=\"your bucket name where you stored your images\"\n",
    "model= \"Your model arn. It should be similar to below exapmple\"\n",
    "photo = 'path to picture in your bucket'\n",
    "\n",
    "\n",
    "# Example:\n",
    "\n",
    "# bucket = 'bms-od'\n",
    "# model = 'arn:aws:rekognition:us-east-1:745137163025:project/dec-20/version/dec-20.2019-12-20T09.52.19/1576857139822'\n",
    "# photo = 'pictures/1.png'\n",
    "\n",
    "label_count=show_custom_labels(model,bucket,photo)"
   ]
  }
 ],
 "metadata": {
  "kernelspec": {
   "display_name": "Python 3",
   "language": "python",
   "name": "python3"
  },
  "language_info": {
   "codemirror_mode": {
    "name": "ipython",
    "version": 3
   },
   "file_extension": ".py",
   "mimetype": "text/x-python",
   "name": "python",
   "nbconvert_exporter": "python",
   "pygments_lexer": "ipython3",
   "version": "3.7.3"
  }
 },
 "nbformat": 4,
 "nbformat_minor": 2
}
